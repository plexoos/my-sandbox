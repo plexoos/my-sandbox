{
 "cells": [
  {
   "cell_type": "code",
   "execution_count": 1,
   "metadata": {},
   "outputs": [],
   "source": [
    "import numpy as np"
   ]
  },
  {
   "cell_type": "code",
   "execution_count": 2,
   "metadata": {},
   "outputs": [
    {
     "data": {
      "text/plain": [
       "array([[ 0,  1,  2,  3,  4],\n",
       "       [ 5,  6,  7,  8,  9],\n",
       "       [10, 11, 12, 13, 14],\n",
       "       [15, 16, 17, 18, 19],\n",
       "       [20, 21, 22, 23, 24]])"
      ]
     },
     "execution_count": 2,
     "metadata": {},
     "output_type": "execute_result"
    }
   ],
   "source": [
    "dim_x = 5\n",
    "dim_y = 5\n",
    "\n",
    "m = np.array(np.arange(dim_x*dim_y))\n",
    "m = m.reshape((dim_x, dim_y))\n",
    "m"
   ]
  },
  {
   "cell_type": "code",
   "execution_count": 3,
   "metadata": {},
   "outputs": [],
   "source": [
    "min_col = 0\n",
    "min_row = 0\n",
    "max_col = dim_x - 1\n",
    "max_row = dim_y - 1\n",
    "\n",
    "def step(irow, icol, direction, prnt=True):\n",
    "    \n",
    "    global min_col\n",
    "    global min_row\n",
    "    global max_col\n",
    "    global max_row\n",
    "\n",
    "    if prnt:\n",
    "        print(f'm[{irow}][{icol}], {direction}: {m[irow][icol]}, {min_col}, {min_row}, {max_col}, {max_row}')\n",
    "    \n",
    "    if min_col > max_col and min_row > max_row:\n",
    "        return\n",
    "\n",
    "    if direction is 'r':\n",
    "        icol += 1\n",
    "        if icol > max_col:\n",
    "            min_row += 1\n",
    "            step(irow, icol-1, 'd', False)\n",
    "        else:\n",
    "            step(irow, icol, 'r')\n",
    "            \n",
    "    if direction is 'l':\n",
    "        icol -= 1\n",
    "        if icol < min_col:\n",
    "            max_row -= 1\n",
    "            step(irow, icol+1, 'u', False)\n",
    "        else:\n",
    "            step(irow, icol, 'l')\n",
    "        \n",
    "    if direction is 'd':\n",
    "        irow += 1\n",
    "        if irow > max_row:\n",
    "            max_col -= 1\n",
    "            step(irow-1, icol, 'l', False)\n",
    "        else:\n",
    "            step(irow, icol, 'd')\n",
    "    \n",
    "    if direction is 'u':\n",
    "        irow -= 1\n",
    "        if irow < min_row:\n",
    "            min_col += 1\n",
    "            step(irow+1, icol, 'r', False)\n",
    "        else:\n",
    "            step(irow, icol, 'u')"
   ]
  },
  {
   "cell_type": "code",
   "execution_count": 4,
   "metadata": {},
   "outputs": [
    {
     "name": "stdout",
     "output_type": "stream",
     "text": [
      "m[0][0], r: 0, 0, 0, 4, 4\n",
      "m[0][1], r: 1, 0, 0, 4, 4\n",
      "m[0][2], r: 2, 0, 0, 4, 4\n",
      "m[0][3], r: 3, 0, 0, 4, 4\n",
      "m[0][4], r: 4, 0, 0, 4, 4\n",
      "m[1][4], d: 9, 0, 1, 4, 4\n",
      "m[2][4], d: 14, 0, 1, 4, 4\n",
      "m[3][4], d: 19, 0, 1, 4, 4\n",
      "m[4][4], d: 24, 0, 1, 4, 4\n",
      "m[4][3], l: 23, 0, 1, 3, 4\n",
      "m[4][2], l: 22, 0, 1, 3, 4\n",
      "m[4][1], l: 21, 0, 1, 3, 4\n",
      "m[4][0], l: 20, 0, 1, 3, 4\n",
      "m[3][0], u: 15, 0, 1, 3, 3\n",
      "m[2][0], u: 10, 0, 1, 3, 3\n",
      "m[1][0], u: 5, 0, 1, 3, 3\n",
      "m[1][1], r: 6, 1, 1, 3, 3\n",
      "m[1][2], r: 7, 1, 1, 3, 3\n",
      "m[1][3], r: 8, 1, 1, 3, 3\n",
      "m[2][3], d: 13, 1, 2, 3, 3\n",
      "m[3][3], d: 18, 1, 2, 3, 3\n",
      "m[3][2], l: 17, 1, 2, 2, 3\n",
      "m[3][1], l: 16, 1, 2, 2, 3\n",
      "m[2][1], u: 11, 1, 2, 2, 2\n",
      "m[2][2], r: 12, 2, 2, 2, 2\n"
     ]
    }
   ],
   "source": [
    "step(0, 0, 'r')"
   ]
  }
 ],
 "metadata": {
  "kernelspec": {
   "display_name": "Python 3",
   "language": "python",
   "name": "python3"
  },
  "language_info": {
   "codemirror_mode": {
    "name": "ipython",
    "version": 3
   },
   "file_extension": ".py",
   "mimetype": "text/x-python",
   "name": "python",
   "nbconvert_exporter": "python",
   "pygments_lexer": "ipython3",
   "version": "3.7.3"
  }
 },
 "nbformat": 4,
 "nbformat_minor": 4
}
